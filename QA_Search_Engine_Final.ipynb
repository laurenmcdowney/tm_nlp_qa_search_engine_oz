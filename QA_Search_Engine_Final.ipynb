{
 "cells": [
  {
   "cell_type": "markdown",
   "metadata": {},
   "source": [
    "# Setup Notes<br>\n",
    "PLEASE SET YOUR WORKING DIRECTORY BEFORE PROCEEDING<br>\n",
    "-*- coding: utf-8 -*-"
   ]
  },
  {
   "cell_type": "markdown",
   "metadata": {},
   "source": [
    "Load necessary modules"
   ]
  },
  {
   "cell_type": "code",
   "execution_count": null,
   "metadata": {},
   "outputs": [],
   "source": [
    "import re\n",
    "from urllib.request import urlopen\n",
    "from pathlib import Path\n",
    "import os\n",
    "import glob\n",
    "from tqdm import tqdm\n",
    "import whoosh.index\n",
    "from whoosh.fields import Schema, TEXT, ID\n",
    "from whoosh.analysis import StemmingAnalyzer\n",
    "import nltk.corpus\n",
    "from whoosh.qparser import QueryParser, OrGroup, WildcardPlugin\n",
    "from deeppavlov import build_model, configs"
   ]
  },
  {
   "cell_type": "markdown",
   "metadata": {},
   "source": [
    "Create directories on local machine to hold data<br>\n",
    "Do this step the first time you run this script, then comment out"
   ]
  },
  {
   "cell_type": "code",
   "execution_count": null,
   "metadata": {},
   "outputs": [],
   "source": [
    "os.makedirs('data/chapters/')\n",
    "os.mkdir('wizco_idx')"
   ]
  },
  {
   "cell_type": "markdown",
   "metadata": {},
   "source": [
    "Part 1: Mine Text"
   ]
  },
  {
   "cell_type": "markdown",
   "metadata": {},
   "source": [
    "Download Wizard of Oz text from Project Gutenberg<br>\n",
    "if you run into issues, clear your default browser cache/history"
   ]
  },
  {
   "cell_type": "code",
   "execution_count": null,
   "metadata": {},
   "outputs": [],
   "source": [
    "url = \"http://www.gutenberg.org/cache/epub/55/pg55.txt\"\n",
    "with urlopen(url) as f:\n",
    "    wizco = f.read().decode('utf-8')"
   ]
  },
  {
   "cell_type": "markdown",
   "metadata": {},
   "source": [
    "Split into prologue + epilogue + chapters (drop prefacing text)"
   ]
  },
  {
   "cell_type": "code",
   "execution_count": null,
   "metadata": {},
   "outputs": [],
   "source": [
    "chapter_split = re.compile(r'\\d''.')   #splits on number and '.'\n",
    "chapters = re.split(chapter_split, wizco)[31:55]"
   ]
  },
  {
   "cell_type": "markdown",
   "metadata": {},
   "source": [
    "Create dictionary of named chapters"
   ]
  },
  {
   "cell_type": "code",
   "execution_count": null,
   "metadata": {},
   "outputs": [],
   "source": [
    "named_chapters = {}"
   ]
  },
  {
   "cell_type": "code",
   "execution_count": null,
   "metadata": {},
   "outputs": [],
   "source": [
    "for i, chapter in enumerate(chapters):\n",
    "    named_chapters[f'chapter_{i + 1}'] = chapter.strip()"
   ]
  },
  {
   "cell_type": "markdown",
   "metadata": {},
   "source": [
    "Save text to files"
   ]
  },
  {
   "cell_type": "code",
   "execution_count": null,
   "metadata": {},
   "outputs": [],
   "source": [
    "for title, chapter in named_chapters.items():\n",
    "    path = Path('data', 'chapters', title).with_suffix('.txt')\n",
    "    with path.open('w') as f:\n",
    "        f.write(chapter)\n"
   ]
  },
  {
   "cell_type": "markdown",
   "metadata": {},
   "source": [
    "Part 2: Build the Index"
   ]
  },
  {
   "cell_type": "markdown",
   "metadata": {},
   "source": [
    "List out all text files to be indexed"
   ]
  },
  {
   "cell_type": "code",
   "execution_count": null,
   "metadata": {},
   "outputs": [],
   "source": [
    "wizco_files = glob.glob('data/chapters/*.txt')"
   ]
  },
  {
   "cell_type": "markdown",
   "metadata": {},
   "source": [
    "Augment Stopwords"
   ]
  },
  {
   "cell_type": "code",
   "execution_count": null,
   "metadata": {},
   "outputs": [],
   "source": [
    "nltk.download('stopwords')\n",
    "nltk_stopwords = set(nltk.corpus.stopwords.words('english'))\n",
    "qa_stopwords = frozenset(nltk_stopwords)"
   ]
  },
  {
   "cell_type": "markdown",
   "metadata": {},
   "source": [
    "Define schema with title as a unique key"
   ]
  },
  {
   "cell_type": "code",
   "execution_count": null,
   "metadata": {},
   "outputs": [],
   "source": [
    "schema = Schema(\n",
    "        chapter_title=ID(stored=True, unique=True),\n",
    "        chapter_text=TEXT(stored=True, analyzer=StemmingAnalyzer(stoplist = qa_stopwords)),\n",
    "    )"
   ]
  },
  {
   "cell_type": "markdown",
   "metadata": {},
   "source": [
    "Create an index named 'wizco' in 'wizco_idx' directory"
   ]
  },
  {
   "cell_type": "code",
   "execution_count": null,
   "metadata": {},
   "outputs": [],
   "source": [
    "idx = whoosh.index.create_in('wizco_idx', schema=schema, indexname='wizco')"
   ]
  },
  {
   "cell_type": "code",
   "execution_count": null,
   "metadata": {},
   "outputs": [],
   "source": [
    "writer = idx.writer()\n",
    "for file in tqdm(wizco_files):\n",
    "    path = Path(file)\n",
    "\n",
    "    # Read info to be indexed\n",
    "    chapter_title = path.stem\n",
    "    with path.open('r') as f:\n",
    "        chapter_text = f.read()\n",
    "\n",
    "    # Add info to index\n",
    "    writer.update_document(\n",
    "        chapter_title=chapter_title,\n",
    "        chapter_text=chapter_text,\n",
    "    )"
   ]
  },
  {
   "cell_type": "markdown",
   "metadata": {},
   "source": [
    "Finalize index build"
   ]
  },
  {
   "cell_type": "code",
   "execution_count": null,
   "metadata": {},
   "outputs": [],
   "source": [
    "writer.commit()"
   ]
  },
  {
   "cell_type": "markdown",
   "metadata": {},
   "source": [
    "Part 3: Build Question and Answer search"
   ]
  },
  {
   "cell_type": "markdown",
   "metadata": {},
   "source": [
    "Load the index named 'wizco' in 'wizco_idx' directory"
   ]
  },
  {
   "cell_type": "code",
   "execution_count": null,
   "metadata": {},
   "outputs": [],
   "source": [
    "whoosh_idx = whoosh.index.open_dir('wizco_idx', schema=schema, indexname='wizco')"
   ]
  },
  {
   "cell_type": "markdown",
   "metadata": {},
   "source": [
    "Define query parser to search the chapter_text field<br>\n",
    "Only one field to search here, if we wanted to search multiple we would use MultifieldParser"
   ]
  },
  {
   "cell_type": "code",
   "execution_count": null,
   "metadata": {},
   "outputs": [],
   "source": [
    "query_parser = QueryParser('chapter_text',\n",
    "                                schema=whoosh_idx.schema,\n",
    "                                group=OrGroup)"
   ]
  },
  {
   "cell_type": "markdown",
   "metadata": {},
   "source": [
    "Remove WildcardPlugin from the query parser<br>\n",
    "Our goal is to make queries as natural as possible"
   ]
  },
  {
   "cell_type": "markdown",
   "metadata": {},
   "source": [
    "About wildcards in queries<br>\n",
    "* Overview<br>\n",
    "    * https://nlp.stanford.edu/IR-book/html/htmledition/wildcard-queries-1.html<br>\n",
    "* Example characters<br>\n",
    "    * https://support.office.com/en-us/article/examples-of-wildcard-characters-939e153f-bd30-47e4-a763-61897c87b3f4"
   ]
  },
  {
   "cell_type": "code",
   "execution_count": null,
   "metadata": {},
   "outputs": [],
   "source": [
    "query_parser.remove_plugin_class(WildcardPlugin)"
   ]
  },
  {
   "cell_type": "markdown",
   "metadata": {},
   "source": [
    "Input a query and parse it"
   ]
  },
  {
   "cell_type": "code",
   "execution_count": null,
   "metadata": {},
   "outputs": [],
   "source": [
    "query_text = 'What is the name of Dorothy* dog?'\n",
    "parsed_query = query_parser.parse(query_text)"
   ]
  },
  {
   "cell_type": "markdown",
   "metadata": {},
   "source": [
    "Search index and grab top hit"
   ]
  },
  {
   "cell_type": "code",
   "execution_count": null,
   "metadata": {},
   "outputs": [],
   "source": [
    "with whoosh_idx.searcher() as searcher:\n",
    "    search_results = searcher.search(parsed_query, limit = 1)\n",
    "    top_hit = [hit['chapter_text'] for hit in search_results][0]"
   ]
  },
  {
   "cell_type": "markdown",
   "metadata": {},
   "source": [
    "Is the known correct answer in the chapter that was identified as containing top hit?"
   ]
  },
  {
   "cell_type": "code",
   "execution_count": null,
   "metadata": {},
   "outputs": [],
   "source": [
    "print(f'`\"Toto\" in top_hit`: {\"Toto\" in top_hit}')"
   ]
  },
  {
   "cell_type": "markdown",
   "metadata": {},
   "source": [
    " Part 4: Integrate Question and Answer with BERT model"
   ]
  },
  {
   "cell_type": "markdown",
   "metadata": {},
   "source": [
    "Init Q&A model - the FIRST time running this code, if you get an error, change below to 'download=True'.\n",
    "This will take longer to run, but may prevent errors."
   ]
  },
  {
   "cell_type": "code",
   "execution_count": null,
   "metadata": {},
   "outputs": [],
   "source": [
    "bert_squad_model = build_model(configs.squad.squad, download=False)"
   ]
  },
  {
   "cell_type": "markdown",
   "metadata": {},
   "source": [
    "Search index and grab top hit"
   ]
  },
  {
   "cell_type": "code",
   "execution_count": null,
   "metadata": {},
   "outputs": [],
   "source": [
    "with whoosh_idx.searcher() as searcher:\n",
    "    while True:\n",
    "        query = input('Query (\"exit\" to quit): ')\n",
    "        if query == 'exit':\n",
    "            break\n",
    "        \n",
    "        parsed_query = query_parser.parse(query)\n",
    "        search_results = searcher.search(parsed_query, limit=1)\n",
    "        top_hit = [hit['chapter_text'] for hit in search_results][0]\n",
    "        print(bert_squad_model([top_hit], [query]))"
   ]
  },
  {
   "cell_type": "markdown",
   "metadata": {},
   "source": [
    "Now type a query into console to return result<br>\n",
    "Example queries:<br>\n",
    "What is the name of the dog?<br>\n",
    "What color is Dorthy* dress?<br>\n",
    "What is the name of Dorothy's aunt?<br>\n",
    "What is cowardly?<br>\n",
    "What is the road paved with?<br>\n",
    "How far is it to the Emerald City?<br>\n",
    "Where did Oz go?"
   ]
  },
  {
   "cell_type": "code",
   "execution_count": null,
   "metadata": {},
   "outputs": [],
   "source": [
    "     \n",
    "        "
   ]
  }
 ],
 "metadata": {
  "kernelspec": {
   "display_name": "Python 3",
   "language": "python",
   "name": "python3"
  },
  "language_info": {
   "codemirror_mode": {
    "name": "ipython",
    "version": 3
   },
   "file_extension": ".py",
   "mimetype": "text/x-python",
   "name": "python",
   "nbconvert_exporter": "python",
   "pygments_lexer": "ipython3",
   "version": "3.7.1"
  }
 },
 "nbformat": 4,
 "nbformat_minor": 2
}
